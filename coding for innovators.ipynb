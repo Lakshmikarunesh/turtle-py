{
 "cells": [
  {
   "cell_type": "code",
   "execution_count": 1,
   "id": "7fab8407-4091-426f-91b0-f4c69b5f447d",
   "metadata": {},
   "outputs": [
    {
     "name": "stdout",
     "output_type": "stream",
     "text": [
      "TECHLOGX\n"
     ]
    }
   ],
   "source": [
    "print(\"TECHLOGX\")"
   ]
  },
  {
   "cell_type": "code",
   "execution_count": 2,
   "id": "494834a6-9fea-4733-bd08-33d8965fe213",
   "metadata": {},
   "outputs": [
    {
     "name": "stdout",
     "output_type": "stream",
     "text": [
      "TECHLOGX\n"
     ]
    }
   ],
   "source": [
    "team_name =\"TECHLOGX\"\n",
    "print(team_name)"
   ]
  },
  {
   "cell_type": "code",
   "execution_count": 7,
   "id": "84867ac3-103f-4dbd-8e3f-59f70ace8490",
   "metadata": {},
   "outputs": [
    {
     "name": "stdout",
     "output_type": "stream",
     "text": [
      "TECHLOGX\n",
      "Lakshmi karunesh\n",
      " Monisha and nanda and beula\n"
     ]
    }
   ],
   "source": [
    "team_name =\"TECHLOGX\"\n",
    "visionary = \"Lakshmi karunesh\"\n",
    "members =\" Monisha and nanda and beula\"\n",
    "print(team_name ) \n",
    "print(visionary )\n",
    "print(members )"
   ]
  },
  {
   "cell_type": "code",
   "execution_count": 8,
   "id": "94bb545b-351a-455a-85cf-7a3e4ce66997",
   "metadata": {},
   "outputs": [
    {
     "name": "stdout",
     "output_type": "stream",
     "text": [
      "hello student\n",
      "fill the datails\n"
     ]
    },
    {
     "name": "stdin",
     "output_type": "stream",
     "text": [
      "enter your name Kayal\n",
      "enter your age 20\n",
      "enter your college PMC TECH\n"
     ]
    },
    {
     "name": "stdout",
     "output_type": "stream",
     "text": [
      "your name is Kayal\n",
      "your age is 20\n",
      "your college is PMC TECH\n"
     ]
    }
   ],
   "source": [
    "print(\"hello student\")\n",
    "print(\"fill the datails\")\n",
    "a=input(\"enter your name\")\n",
    "b=input(\"enter your age\")\n",
    "c=input(\"enter your college\")\n",
    "print(\"your name is \"+a)\n",
    "print(\"your age is \"+b)\n",
    "print(\"your college is \"+c)\n",
    "\n"
   ]
  },
  {
   "cell_type": "code",
   "execution_count": 10,
   "id": "18d7a07f-9eea-49e6-b3a5-d60a3728d1e8",
   "metadata": {},
   "outputs": [
    {
     "name": "stdout",
     "output_type": "stream",
     "text": [
      "Favourite\n"
     ]
    },
    {
     "name": "stdin",
     "output_type": "stream",
     "text": [
      "Favourite food  Biryani\n",
      "Favourite hobby Dance\n",
      "Favourite sports Cricket\n"
     ]
    },
    {
     "name": "stdout",
     "output_type": "stream",
     "text": [
      "your Favourite food is Biryani\n",
      "your Favourite hobby is Dance\n",
      "your Favourite sports is Cricket\n"
     ]
    }
   ],
   "source": [
    "print(\"Favourite\")\n",
    "a=input(\"Favourite food \")\n",
    "b=input(\"Favourite hobby\")\n",
    "c=input(\"Favourite sports\")\n",
    "print(\"your Favourite food is \"+a)\n",
    "print(\"your Favourite hobby is \"+b)\n",
    "print(\"your Favourite sports is \"+c)"
   ]
  },
  {
   "cell_type": "code",
   "execution_count": 11,
   "id": "0beca8e9-88dd-48b9-979a-441ed218757b",
   "metadata": {},
   "outputs": [
    {
     "name": "stdin",
     "output_type": "stream",
     "text": [
      " 6\n"
     ]
    },
    {
     "name": "stdout",
     "output_type": "stream",
     "text": [
      "<class 'str'>\n"
     ]
    }
   ],
   "source": [
    "a=input()\n",
    "print(type(a))"
   ]
  },
  {
   "cell_type": "code",
   "execution_count": 15,
   "id": "4cbcf8ac-4807-4f60-8e86-35d752d5d79b",
   "metadata": {},
   "outputs": [
    {
     "name": "stdin",
     "output_type": "stream",
     "text": [
      "Enter a number 8\n"
     ]
    },
    {
     "name": "stdout",
     "output_type": "stream",
     "text": [
      "POSITIVE NUMBER\n"
     ]
    }
   ],
   "source": [
    "a = int(input(\"Enter a number\"))\n",
    "if(a>0):\n",
    "    print(\"POSITIVE NUMBER\")\n",
    "elif(a<0):\n",
    "    print(\"NEGATIVE NUMBER\")\n",
    "else:\n",
    "    print(\"ZERO \")"
   ]
  },
  {
   "cell_type": "code",
   "execution_count": 19,
   "id": "1125a96c-1bc8-48b7-8327-40170f9fb2e6",
   "metadata": {},
   "outputs": [
    {
     "name": "stdin",
     "output_type": "stream",
     "text": [
      "Enter gender :  male\n",
      "enter age :  19\n"
     ]
    },
    {
     "name": "stdout",
     "output_type": "stream",
     "text": [
      "Adult allowed to vote booth number 1\n"
     ]
    }
   ],
   "source": [
    "gender=input(\"Enter gender : \")\n",
    "age=int(input(\"enter age : \"))\n",
    "if(gender== \"male\"):\n",
    "        if(age>18):\n",
    "           print(\"Adult allowed to vote booth number 1\")\n",
    "        else:\n",
    "           print(\"Your are child not allowed to vote\")\n",
    "elif(gender==\"female\"):\n",
    "        if(age>18):\n",
    "           print(\"Adult allowed to vote booth number 2\")\n",
    "        else:\n",
    "           print(\"Your are child not allowed to vote\")\n",
    "else:\n",
    "  if(age>18):\n",
    "     print(\"Adult allowed to vote booth number 3\")\n",
    "  else:\n",
    "     print(\"Your are child not allowed to vote\")\n"
   ]
  },
  {
   "cell_type": "code",
   "execution_count": 14,
   "id": "2dc5b646-0c41-4384-bf7c-3e8b272f3d86",
   "metadata": {},
   "outputs": [
    {
     "name": "stdin",
     "output_type": "stream",
     "text": [
      "Enter the limit 27\n"
     ]
    },
    {
     "name": "stdout",
     "output_type": "stream",
     "text": [
      "196418\n"
     ]
    }
   ],
   "source": [
    "n=int(input(\"Enter the limit\"))\n",
    "def fibo(n):\n",
    "    if(n==0):\n",
    "        return  0\n",
    "    elif( n==1):\n",
    "        return  1\n",
    "    else:\n",
    "        return fibo(n-1)+fibo(n-2)\n",
    "print(fibo(n))\n"
   ]
  },
  {
   "cell_type": "code",
   "execution_count": 21,
   "id": "7f012bed-b5f2-403d-992b-5a3a019f0003",
   "metadata": {},
   "outputs": [
    {
     "name": "stdin",
     "output_type": "stream",
     "text": [
      "Enter celsius value 6.5\n"
     ]
    },
    {
     "name": "stdout",
     "output_type": "stream",
     "text": [
      "fahrenhit is  43.7\n"
     ]
    }
   ],
   "source": [
    "c= float(input(\"Enter celsius value\"))\n",
    "a = (c*1.8)+32\n",
    "print(\"fahrenhit is \" ,a)\n"
   ]
  },
  {
   "cell_type": "code",
   "execution_count": 19,
   "id": "b38735b1-416d-41ad-9f37-1c15da916ba4",
   "metadata": {},
   "outputs": [
    {
     "name": "stdin",
     "output_type": "stream",
     "text": [
      "Enter fahrenhit value 42.8\n"
     ]
    },
    {
     "name": "stdout",
     "output_type": "stream",
     "text": [
      "celsius is  5.999999999999998\n"
     ]
    }
   ],
   "source": [
    "c= float(input(\"Enter fahrenhit value\"))\n",
    "a = ( c-32)/1.8\n",
    "print(\"celsius is \" ,a)"
   ]
  },
  {
   "cell_type": "code",
   "execution_count": 24,
   "id": "62353428-ee9b-476d-81d9-21e8e0ae52a2",
   "metadata": {},
   "outputs": [
    {
     "name": "stdin",
     "output_type": "stream",
     "text": [
      "Enter the number 7\n"
     ]
    },
    {
     "name": "stdout",
     "output_type": "stream",
     "text": [
      "13\n"
     ]
    }
   ],
   "source": [
    "m = int (input(\"Enter the number\"))\n",
    "def fibo(m):\n",
    "    if (m==0):\n",
    "        return 0 \n",
    "    elif (m==1):\n",
    "        return 1\n",
    "    else :\n",
    "        return fibo (m-1)+fibo(m-2)\n",
    "print(fibo(m))        "
   ]
  },
  {
   "cell_type": "code",
   "execution_count": 49,
   "id": "59fc9e9a-9a20-4e06-84d9-b7513904432a",
   "metadata": {},
   "outputs": [
    {
     "name": "stdout",
     "output_type": "stream",
     "text": [
      "  *********\n",
      "  *******\n",
      "  *****\n",
      "  ***\n",
      "  *\n"
     ]
    }
   ],
   "source": [
    "i= 9\n",
    "while i>0:\n",
    "    a=\"*\"\n",
    "    print( a * i)\n",
    "    i-=2\n",
    "  "
   ]
  },
  {
   "cell_type": "code",
   "execution_count": 57,
   "id": "12f5e232-1856-4324-84b1-8b873ef45b8e",
   "metadata": {},
   "outputs": [
    {
     "name": "stdout",
     "output_type": "stream",
     "text": [
      "* * * * * * * * * \n",
      "  * * * * * * * \n",
      "    * * * * * \n",
      "      * * * \n",
      "        * \n"
     ]
    }
   ],
   "source": [
    "for i in range(5,0,-1):\n",
    "    for j in range(5-i):\n",
    "        print(\" \" , end=\" \" )\n",
    "    for k in range (2*i-1):\n",
    "        print(\"*\", end=\" \")\n",
    "    print(\"\\r\")\n",
    "        \n"
   ]
  },
  {
   "cell_type": "code",
   "execution_count": 21,
   "id": "032b4390-1511-4c24-b93f-fbc00b6d86ff",
   "metadata": {},
   "outputs": [
    {
     "name": "stdout",
     "output_type": "stream",
     "text": [
      "['d']\n",
      "['a', 'b', 'c', 'd', 'e', 'f', 'g', 'h', 'i', 'j']\n",
      "['a', 'b', 'c', 'd', 'e', 'f', 'g', 'h', 'i']\n",
      "['b', 'd']\n",
      "['a', 'b', 'c', 'd', 'e', 'f', 'h', 'i', 'j', 'l']\n",
      "10\n",
      "[]\n"
     ]
    }
   ],
   "source": [
    "l=['a','b','c','d','e', 'f','g','h','i','j']\n",
    "print(l[3:4:6])\n",
    "print(l[0:])\n",
    "print(l[:9])\n",
    "print(l[1:5:2])\n",
    "l.pop(6)\n",
    "l.insert(9,'k')\n",
    "l.append('l')\n",
    "l.pop(9)\n",
    "print(l)\n",
    "print(len(l))\n",
    "l.clear()\n",
    "print"
   ]
  },
  {
   "cell_type": "code",
   "execution_count": 18,
   "id": "8e6b0f52-9cf1-479b-9dca-f86763ac5b5b",
   "metadata": {},
   "outputs": [
    {
     "name": "stdout",
     "output_type": "stream",
     "text": [
      "['m', 'o', 'n', 'i']\n"
     ]
    }
   ],
   "source": []
  },
  {
   "cell_type": "code",
   "execution_count": 52,
   "id": "af676dcb-745c-43f5-ae31-36a0d1ba12d5",
   "metadata": {},
   "outputs": [
    {
     "name": "stdout",
     "output_type": "stream",
     "text": [
      "['kavi', 'loves', 'appu', 'but', 'in', 'imagination']\n",
      "['kavi ', ' appu but in imagination']\n"
     ]
    }
   ],
   "source": [
    "h=\"kavi loves appu but in imagination\"\n",
    "print(h.split(\" \"))\n",
    "t=\"kavi loves appu but in imagination\"\n",
    "t=\"kavi loves appu\"\n",
    "print(h.split(\"loves\"))"
   ]
  },
  {
   "cell_type": "code",
   "execution_count": 63,
   "id": "10672c1d-9c9b-48d3-834d-0a7fde9e6a94",
   "metadata": {},
   "outputs": [
    {
     "name": "stdout",
     "output_type": "stream",
     "text": [
      "{'first': 1, 'second': 2}\n",
      "1\n"
     ]
    }
   ],
   "source": [
    "h={\"first\":1,\"second\":2}\n",
    "print(h)\n",
    "print(h[\"first\"])\n"
   ]
  },
  {
   "cell_type": "code",
   "execution_count": 92,
   "id": "2dbdd523-9a9c-488e-97e4-d04ad7ffa754",
   "metadata": {},
   "outputs": [
    {
     "name": "stdin",
     "output_type": "stream",
     "text": [
      "n 2\n",
      "string paradox\n"
     ]
    },
    {
     "name": "stdout",
     "output_type": "stream",
     "text": [
      "pzizwlc\n"
     ]
    }
   ],
   "source": [
    "n=int(input(\"n\"))\n",
    "word=input(\"string\")\n",
    "s=len(word)\n",
    "rev=\"zyxwvutsrqponmlkjihgfedcba\"\n",
    "ans=\"\"\n",
    "for i in range(0,n-1):\n",
    "    ans=ans+word[i]\n",
    "for i in range(n-1,s):\n",
    "    ans = (ans + rev[ord(word[i]) - 97])\n",
    "print(ans)\n",
    "\n"
   ]
  },
  {
   "cell_type": "code",
   "execution_count": 97,
   "id": "6ae1c7cf-9b9a-401d-a0b5-0e934047aa73",
   "metadata": {},
   "outputs": [
    {
     "name": "stdin",
     "output_type": "stream",
     "text": [
      "\n",
      "Enter your password: gv\n"
     ]
    },
    {
     "name": "stdout",
     "output_type": "stream",
     "text": [
      "nt\n",
      "ma\n",
      "ve\n",
      "fv\n",
      "on\n",
      "wv\n",
      "go\n",
      "hr\n",
      "gm\n",
      "ca\n",
      "iu\n",
      "hf\n",
      "nd\n",
      "tr\n",
      "cm\n",
      "gu\n",
      "fn\n",
      "zv\n",
      "mu\n",
      "wr\n",
      "dn\n",
      "pu\n",
      "wp\n",
      "cy\n",
      "ns\n",
      "cr\n",
      "sx\n",
      "el\n",
      "mh\n",
      "ma\n",
      "kh\n",
      "mb\n",
      "pd\n",
      "uh\n",
      "ii\n",
      "hw\n",
      "us\n",
      "ld\n",
      "ty\n",
      "ty\n",
      "tk\n",
      "ju\n",
      "hg\n",
      "bp\n",
      "ly\n",
      "yo\n",
      "na\n",
      "dh\n",
      "fd\n",
      "hj\n",
      "te\n",
      "uw\n",
      "aq\n",
      "gj\n",
      "cq\n",
      "is\n",
      "ru\n",
      "fd\n",
      "aw\n",
      "po\n",
      "uh\n",
      "ao\n",
      "hl\n",
      "fv\n",
      "zx\n",
      "ie\n",
      "sc\n",
      "wy\n",
      "zu\n",
      "cd\n",
      "ks\n",
      "km\n",
      "fn\n",
      "vn\n",
      "aj\n",
      "uq\n",
      "gy\n",
      "ab\n",
      "kd\n",
      "ck\n",
      "jz\n",
      "qo\n",
      "fa\n",
      "sg\n",
      "ae\n",
      "th\n",
      "fw\n",
      "yp\n",
      "rg\n",
      "ac\n",
      "az\n",
      "pm\n",
      "sy\n",
      "wd\n",
      "wm\n",
      "lq\n",
      "ki\n",
      "uc\n",
      "km\n",
      "hd\n",
      "fp\n",
      "ca\n",
      "zw\n",
      "fj\n",
      "xt\n",
      "ld\n",
      "hr\n",
      "dr\n",
      "qs\n",
      "at\n",
      "pc\n",
      "rg\n",
      "qf\n",
      "tj\n",
      "ov\n",
      "yj\n",
      "qz\n",
      "ss\n",
      "xz\n",
      "ew\n",
      "wi\n",
      "ta\n",
      "je\n",
      "zx\n",
      "qu\n",
      "ao\n",
      "jl\n",
      "bm\n",
      "ni\n",
      "gp\n",
      "uz\n",
      "mm\n",
      "rw\n",
      "he\n",
      "hr\n",
      "dy\n",
      "ey\n",
      "ah\n",
      "im\n",
      "pm\n",
      "vk\n",
      "yj\n",
      "gp\n",
      "hg\n",
      "ai\n",
      "ih\n",
      "hc\n",
      "jl\n",
      "kh\n",
      "ft\n",
      "og\n",
      "ij\n",
      "jh\n",
      "qn\n",
      "rg\n",
      "wc\n",
      "qm\n",
      "kd\n",
      "lh\n",
      "xu\n",
      "fi\n",
      "io\n",
      "ef\n",
      "jr\n",
      "ry\n",
      "jz\n",
      "sw\n",
      "kp\n",
      "pz\n",
      "ip\n",
      "ad\n",
      "pe\n",
      "db\n",
      "ab\n",
      "oq\n",
      "ib\n",
      "du\n",
      "zj\n",
      "ch\n",
      "fr\n",
      "us\n",
      "lr\n",
      "om\n",
      "rq\n",
      "fk\n",
      "oo\n",
      "gv\n",
      "Result matched password is:  gv\n",
      "187\n"
     ]
    }
   ],
   "source": [
    "from random import *\n",
    "\n",
    "userPass = input(\"\\nEnter your password:\")\n",
    "\n",
    "password = ['a', 'b', 'c', 'd', 'e', 'f', 'g', 'h', 'i', 'j','k', \n",
    "            'l', 'm', 'n', 'o', 'p', 'q', 'r', 's', 't','u','v', \n",
    "            'w', 'x', 'y', 'z',]\n",
    "count = 0\n",
    "guessPass = \"\"\n",
    "\n",
    "while (guessPass != userPass):\n",
    "    guessPass = \"\"\n",
    "    for letter in range(len(userPass)):\n",
    "        guessLetter = password[randint(0, 25)]\n",
    "        guessPass = str(guessLetter) + str(guessPass) \n",
    "    print(guessPass)\n",
    "    count = count + 1\n",
    "\n",
    "print(\"Result matched password is: \", guessPass)\n",
    "\n",
    "print(count)\n"
   ]
  },
  {
   "cell_type": "code",
   "execution_count": 16,
   "id": "f6d1cc77-7264-4109-ac62-f565da3dc512",
   "metadata": {},
   "outputs": [],
   "source": [
    "import turtle\n",
    "from turtle import *\n",
    "#fillcolor(\"blue\")\n",
    "#begin_fill()\n",
    "#circle(100)\n",
    "#end_fill()\n",
    "#left(90)\n",
    "#forward(100)\n",
    "#left(180)\n"
   ]
  },
  {
   "cell_type": "code",
   "execution_count": 2,
   "id": "0c9c62f3-6dfc-431d-a3c0-11030476d49a",
   "metadata": {},
   "outputs": [],
   "source": [
    "# Import turtle package \n",
    "import turtle \n",
    "\n",
    "# Creating a turtle object(pen) \n",
    "pen = turtle.Turtle() \n",
    "\n",
    "# Defining a method to draw curve \n",
    "def curve(): \n",
    "\tfor i in range(200): \n",
    "\n",
    "\t\t# Defining step by step curve motion \n",
    "\t\tpen.right(1) \n",
    "\t\tpen.forward(1) \n",
    "\n",
    "# Defining method to draw a full heart \n",
    "def heart(): \n",
    "\n",
    "\t# Set the fill color to red \n",
    "\tpen.fillcolor('red') \n",
    "\n",
    "\t# Start filling the color \n",
    "\tpen.begin_fill() \n",
    "\n",
    "\t# Draw the left line \n",
    "\tpen.left(140) \n",
    "\tpen.forward(113) \n",
    "\n",
    "\t# Draw the left curve \n",
    "\tcurve() \n",
    "\tpen.left(120) \n",
    "\n",
    "\t# Draw the right curve \n",
    "\tcurve() \n",
    "\n",
    "\t# Draw the right line \n",
    "\tpen.forward(112) \n",
    "\n",
    "\t# Ending the filling of the color \n",
    "\tpen.end_fill() \n",
    "\n",
    "# Defining method to write text \n",
    "def txt(): \n",
    "\n",
    "\t# Move turtle to air \n",
    "\tpen.up() \n",
    "\n",
    "\t# Move turtle to a given position \n",
    "\tpen.setpos(-68, 95) \n",
    "\n",
    "\t# Move the turtle to the ground \n",
    "\tpen.down() \n",
    "\n",
    "\t# Set the text color to lightgreen \n",
    "\tpen.color('lightgreen') \n",
    "\n",
    "\t# Write the specified text in \n",
    "\t# specified font style and size \n",
    "\tpen.write(\"\", font=( \n",
    "\t\"Verdana\", 12, \"bold\")) \n",
    "\n",
    "\n",
    "# Draw a heart \n",
    "heart() \n",
    "\n",
    "# Write text \n",
    "txt() \n",
    "\n",
    "# To hide turtle \n",
    "pen.ht() \n"
   ]
  },
  {
   "cell_type": "code",
   "execution_count": null,
   "id": "d0cdfbf7-6626-4f55-be82-0ddd54a280e9",
   "metadata": {},
   "outputs": [],
   "source": []
  },
  {
   "cell_type": "code",
   "execution_count": null,
   "id": "9ac53677-e850-4227-8185-21f57cbff26f",
   "metadata": {},
   "outputs": [],
   "source": []
  }
 ],
 "metadata": {
  "kernelspec": {
   "display_name": "Python 3 (ipykernel)",
   "language": "python",
   "name": "python3"
  },
  "language_info": {
   "codemirror_mode": {
    "name": "ipython",
    "version": 3
   },
   "file_extension": ".py",
   "mimetype": "text/x-python",
   "name": "python",
   "nbconvert_exporter": "python",
   "pygments_lexer": "ipython3",
   "version": "3.11.7"
  }
 },
 "nbformat": 4,
 "nbformat_minor": 5
}
