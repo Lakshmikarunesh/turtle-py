{
 "cells": [
  {
   "cell_type": "code",
   "execution_count": 1,
   "id": "7fab8407-4091-426f-91b0-f4c69b5f447d",
   "metadata": {},
   "outputs": [
    {
     "name": "stdout",
     "output_type": "stream",
     "text": [
      "TECHLOGX\n"
     ]
    }
   ],
   "source": [
    "print(\"TECHLOGX\")"
   ]
  },
  {
   "cell_type": "code",
   "execution_count": 2,
   "id": "494834a6-9fea-4733-bd08-33d8965fe213",
   "metadata": {},
   "outputs": [
    {
     "name": "stdout",
     "output_type": "stream",
     "text": [
      "TECHLOGX\n"
     ]
    }
   ],
   "source": [
    "team_name =\"TECHLOGX\"\n",
    "print(team_name)"
   ]
  },
  {
   "cell_type": "code",
   "execution_count": 7,
   "id": "84867ac3-103f-4dbd-8e3f-59f70ace8490",
   "metadata": {},
   "outputs": [
    {
     "name": "stdout",
     "output_type": "stream",
     "text": [
      "TECHLOGX\n",
      "Lakshmi karunesh\n",
      " Monisha and nanda and beula\n"
     ]
    }
   ],
   "source": [
    "team_name =\"TECHLOGX\"\n",
    "visionary = \"Lakshmi karunesh\"\n",
    "members =\" Monisha and nanda and beula\"\n",
    "print(team_name ) \n",
    "print(visionary )\n",
    "print(members )"
   ]
  },
  {
   "cell_type": "code",
   "execution_count": 8,
   "id": "94bb545b-351a-455a-85cf-7a3e4ce66997",
   "metadata": {},
   "outputs": [
    {
     "name": "stdout",
     "output_type": "stream",
     "text": [
      "hello student\n",
      "fill the datails\n"
     ]
    },
    {
     "name": "stdin",
     "output_type": "stream",
     "text": [
      "enter your name Kayal\n",
      "enter your age 20\n",
      "enter your college PMC TECH\n"
     ]
    },
    {
     "name": "stdout",
     "output_type": "stream",
     "text": [
      "your name is Kayal\n",
      "your age is 20\n",
      "your college is PMC TECH\n"
     ]
    }
   ],
   "source": [
    "print(\"hello student\")\n",
    "print(\"fill the datails\")\n",
    "a=input(\"enter your name\")\n",
    "b=input(\"enter your age\")\n",
    "c=input(\"enter your college\")\n",
    "print(\"your name is \"+a)\n",
    "print(\"your age is \"+b)\n",
    "print(\"your college is \"+c)\n",
    "\n"
   ]
  },
  {
   "cell_type": "code",
   "execution_count": 10,
   "id": "18d7a07f-9eea-49e6-b3a5-d60a3728d1e8",
   "metadata": {},
   "outputs": [
    {
     "name": "stdout",
     "output_type": "stream",
     "text": [
      "Favourite\n"
     ]
    },
    {
     "name": "stdin",
     "output_type": "stream",
     "text": [
      "Favourite food  Biryani\n",
      "Favourite hobby Dance\n",
      "Favourite sports Cricket\n"
     ]
    },
    {
     "name": "stdout",
     "output_type": "stream",
     "text": [
      "your Favourite food is Biryani\n",
      "your Favourite hobby is Dance\n",
      "your Favourite sports is Cricket\n"
     ]
    }
   ],
   "source": [
    "print(\"Favourite\")\n",
    "a=input(\"Favourite food \")\n",
    "b=input(\"Favourite hobby\")\n",
    "c=input(\"Favourite sports\")\n",
    "print(\"your Favourite food is \"+a)\n",
    "print(\"your Favourite hobby is \"+b)\n",
    "print(\"your Favourite sports is \"+c)"
   ]
  },
  {
   "cell_type": "code",
   "execution_count": 11,
   "id": "0beca8e9-88dd-48b9-979a-441ed218757b",
   "metadata": {},
   "outputs": [
    {
     "name": "stdin",
     "output_type": "stream",
     "text": [
      " 6\n"
     ]
    },
    {
     "name": "stdout",
     "output_type": "stream",
     "text": [
      "<class 'str'>\n"
     ]
    }
   ],
   "source": [
    "a=input()\n",
    "print(type(a))"
   ]
  },
  {
   "cell_type": "code",
   "execution_count": 15,
   "id": "4cbcf8ac-4807-4f60-8e86-35d752d5d79b",
   "metadata": {},
   "outputs": [
    {
     "name": "stdin",
     "output_type": "stream",
     "text": [
      "Enter a number 8\n"
     ]
    },
    {
     "name": "stdout",
     "output_type": "stream",
     "text": [
      "POSITIVE NUMBER\n"
     ]
    }
   ],
   "source": [
    "a = int(input(\"Enter a number\"))\n",
    "if(a>0):\n",
    "    print(\"POSITIVE NUMBER\")\n",
    "elif(a<0):\n",
    "    print(\"NEGATIVE NUMBER\")\n",
    "else:\n",
    "    print(\"ZERO \")"
   ]
  },
  {
   "cell_type": "code",
   "execution_count": 19,
   "id": "1125a96c-1bc8-48b7-8327-40170f9fb2e6",
   "metadata": {},
   "outputs": [
    {
     "name": "stdin",
     "output_type": "stream",
     "text": [
      "Enter gender :  male\n",
      "enter age :  19\n"
     ]
    },
    {
     "name": "stdout",
     "output_type": "stream",
     "text": [
      "Adult allowed to vote booth number 1\n"
     ]
    }
   ],
   "source": [
    "gender=input(\"Enter gender : \")\n",
    "age=int(input(\"enter age : \"))\n",
    "if(gender== \"male\"):\n",
    "        if(age>18):\n",
    "           print(\"Adult allowed to vote booth number 1\")\n",
    "        else:\n",
    "           print(\"Your are child not allowed to vote\")\n",
    "elif(gender==\"female\"):\n",
    "        if(age>18):\n",
    "           print(\"Adult allowed to vote booth number 2\")\n",
    "        else:\n",
    "           print(\"Your are child not allowed to vote\")\n",
    "else:\n",
    "  if(age>18):\n",
    "     print(\"Adult allowed to vote booth number 3\")\n",
    "  else:\n",
    "     print(\"Your are child not allowed to vote\")\n"
   ]
  },
  {
   "cell_type": "code",
   "execution_count": 14,
   "id": "2dc5b646-0c41-4384-bf7c-3e8b272f3d86",
   "metadata": {},
   "outputs": [
    {
     "name": "stdin",
     "output_type": "stream",
     "text": [
      "Enter the limit 27\n"
     ]
    },
    {
     "name": "stdout",
     "output_type": "stream",
     "text": [
      "196418\n"
     ]
    }
   ],
   "source": [
    "n=int(input(\"Enter the limit\"))\n",
    "def fibo(n):\n",
    "    if(n==0):\n",
    "        return  0\n",
    "    elif( n==1):\n",
    "        return  1\n",
    "    else:\n",
    "        return fibo(n-1)+fibo(n-2)\n",
    "print(fibo(n))\n"
   ]
  },
  {
   "cell_type": "code",
   "execution_count": 21,
   "id": "7f012bed-b5f2-403d-992b-5a3a019f0003",
   "metadata": {},
   "outputs": [
    {
     "name": "stdin",
     "output_type": "stream",
     "text": [
      "Enter celsius value 6.5\n"
     ]
    },
    {
     "name": "stdout",
     "output_type": "stream",
     "text": [
      "fahrenhit is  43.7\n"
     ]
    }
   ],
   "source": [
    "c= float(input(\"Enter celsius value\"))\n",
    "a = (c*1.8)+32\n",
    "print(\"fahrenhit is \" ,a)\n"
   ]
  },
  {
   "cell_type": "code",
   "execution_count": 19,
   "id": "b38735b1-416d-41ad-9f37-1c15da916ba4",
   "metadata": {},
   "outputs": [
    {
     "name": "stdin",
     "output_type": "stream",
     "text": [
      "Enter fahrenhit value 42.8\n"
     ]
    },
    {
     "name": "stdout",
     "output_type": "stream",
     "text": [
      "celsius is  5.999999999999998\n"
     ]
    }
   ],
   "source": [
    "c= float(input(\"Enter fahrenhit value\"))\n",
    "a = ( c-32)/1.8\n",
    "print(\"celsius is \" ,a)"
   ]
  },
  {
   "cell_type": "code",
   "execution_count": 24,
   "id": "62353428-ee9b-476d-81d9-21e8e0ae52a2",
   "metadata": {},
   "outputs": [
    {
     "name": "stdin",
     "output_type": "stream",
     "text": [
      "Enter the number 7\n"
     ]
    },
    {
     "name": "stdout",
     "output_type": "stream",
     "text": [
      "13\n"
     ]
    }
   ],
   "source": [
    "m = int (input(\"Enter the number\"))\n",
    "def fibo(m):\n",
    "    if (m==0):\n",
    "        return 0 \n",
    "    elif (m==1):\n",
    "        return 1\n",
    "    else :\n",
    "        return fibo (m-1)+fibo(m-2)\n",
    "print(fibo(m))        "
   ]
  },
  {
   "cell_type": "code",
   "execution_count": 49,
   "id": "59fc9e9a-9a20-4e06-84d9-b7513904432a",
   "metadata": {},
   "outputs": [
    {
     "name": "stdout",
     "output_type": "stream",
     "text": [
      "  *********\n",
      "  *******\n",
      "  *****\n",
      "  ***\n",
      "  *\n"
     ]
    }
   ],
   "source": [
    "i= 9\n",
    "while i>0:\n",
    "    a=\"*\"\n",
    "    print( a * i)\n",
    "    i-=2\n",
    "  "
   ]
  },
  {
   "cell_type": "code",
   "execution_count": 57,
   "id": "12f5e232-1856-4324-84b1-8b873ef45b8e",
   "metadata": {},
   "outputs": [
    {
     "name": "stdout",
     "output_type": "stream",
     "text": [
      "* * * * * * * * * \n",
      "  * * * * * * * \n",
      "    * * * * * \n",
      "      * * * \n",
      "        * \n"
     ]
    }
   ],
   "source": [
    "for i in range(5,0,-1):\n",
    "    for j in range(5-i):\n",
    "        print(\" \" , end=\" \" )\n",
    "    for k in range (2*i-1):\n",
    "        print(\"*\", end=\" \")\n",
    "    print(\"\\r\")\n",
    "        \n"
   ]
  },
  {
   "cell_type": "code",
   "execution_count": 21,
   "id": "032b4390-1511-4c24-b93f-fbc00b6d86ff",
   "metadata": {},
   "outputs": [
    {
     "name": "stdout",
     "output_type": "stream",
     "text": [
      "['d']\n",
      "['a', 'b', 'c', 'd', 'e', 'f', 'g', 'h', 'i', 'j']\n",
      "['a', 'b', 'c', 'd', 'e', 'f', 'g', 'h', 'i']\n",
      "['b', 'd']\n",
      "['a', 'b', 'c', 'd', 'e', 'f', 'h', 'i', 'j', 'l']\n",
      "10\n",
      "[]\n"
     ]
    }
   ],
   "source": [
    "l=['a','b','c','d','e', 'f','g','h','i','j']\n",
    "print(l[3:4:6])\n",
    "print(l[0:])\n",
    "print(l[:9])\n",
    "print(l[1:5:2])\n",
    "l.pop(6)\n",
    "l.insert(9,'k')\n",
    "l.append('l')\n",
    "l.pop(9)\n",
    "print(l)\n",
    "print(len(l))\n",
    "l.clear()\n",
    "print"
   ]
  },
  {
   "cell_type": "code",
   "execution_count": 18,
   "id": "8e6b0f52-9cf1-479b-9dca-f86763ac5b5b",
   "metadata": {},
   "outputs": [
    {
     "name": "stdout",
     "output_type": "stream",
     "text": [
      "['m', 'o', 'n', 'i']\n"
     ]
    }
   ],
   "source": []
  },
  {
   "cell_type": "code",
   "execution_count": 52,
   "id": "af676dcb-745c-43f5-ae31-36a0d1ba12d5",
   "metadata": {},
   "outputs": [
    {
     "name": "stdout",
     "output_type": "stream",
     "text": [
      "['kavi', 'loves', 'appu', 'but', 'in', 'imagination']\n",
      "['kavi ', ' appu but in imagination']\n"
     ]
    }
   ],
   "source": [
    "h=\"kavi loves appu but in imagination\"\n",
    "print(h.split(\" \"))\n",
    "t=\"kavi loves appu but in imagination\"\n",
    "t=\"kavi loves appu\"\n",
    "print(h.split(\"loves\"))"
   ]
  },
  {
   "cell_type": "code",
   "execution_count": 63,
   "id": "10672c1d-9c9b-48d3-834d-0a7fde9e6a94",
   "metadata": {},
   "outputs": [
    {
     "name": "stdout",
     "output_type": "stream",
     "text": [
      "{'first': 1, 'second': 2}\n",
      "1\n"
     ]
    }
   ],
   "source": [
    "h={\"first\":1,\"second\":2}\n",
    "print(h)\n",
    "print(h[\"first\"])\n"
   ]
  },
  {
   "cell_type": "code",
   "execution_count": 92,
   "id": "2dbdd523-9a9c-488e-97e4-d04ad7ffa754",
   "metadata": {},
   "outputs": [
    {
     "name": "stdin",
     "output_type": "stream",
     "text": [
      "n 2\n",
      "string paradox\n"
     ]
    },
    {
     "name": "stdout",
     "output_type": "stream",
     "text": [
      "pzizwlc\n"
     ]
    }
   ],
   "source": [
    "n=int(input(\"n\"))\n",
    "word=input(\"string\")\n",
    "s=len(word)\n",
    "rev=\"zyxwvutsrqponmlkjihgfedcba\"\n",
    "ans=\"\"\n",
    "for i in range(0,n-1):\n",
    "    ans=ans+word[i]\n",
    "for i in range(n-1,s):\n",
    "    ans = (ans + rev[ord(word[i]) - 97])\n",
    "print(ans)\n",
    "\n"
   ]
  },
  {
   "cell_type": "code",
   "execution_count": 97,
   "id": "6ae1c7cf-9b9a-401d-a0b5-0e934047aa73",
   "metadata": {},
   "outputs": [
    {
     "name": "stdin",
     "output_type": "stream",
     "text": [
      "\n",
      "Enter your password: gv\n"
     ]
    },
    {
     "name": "stdout",
     "output_type": "stream",
     "text": [
      "nt\n",
      "ma\n",
      "ve\n",
      "fv\n",
      "on\n",
      "wv\n",
      "go\n",
      "hr\n",
      "gm\n",
      "ca\n",
      "iu\n",
      "hf\n",
      "nd\n",
      "tr\n",
      "cm\n",
      "gu\n",
      "fn\n",
      "zv\n",
      "mu\n",
      "wr\n",
      "dn\n",
      "pu\n",
      "wp\n",
      "cy\n",
      "ns\n",
      "cr\n",
      "sx\n",
      "el\n",
      "mh\n",
      "ma\n",
      "kh\n",
      "mb\n",
      "pd\n",
      "uh\n",
      "ii\n",
      "hw\n",
      "us\n",
      "ld\n",
      "ty\n",
      "ty\n",
      "tk\n",
      "ju\n",
      "hg\n",
      "bp\n",
      "ly\n",
      "yo\n",
      "na\n",
      "dh\n",
      "fd\n",
      "hj\n",
      "te\n",
      "uw\n",
      "aq\n",
      "gj\n",
      "cq\n",
      "is\n",
      "ru\n",
      "fd\n",
      "aw\n",
      "po\n",
      "uh\n",
      "ao\n",
      "hl\n",
      "fv\n",
      "zx\n",
      "ie\n",
      "sc\n",
      "wy\n",
      "zu\n",
      "cd\n",
      "ks\n",
      "km\n",
      "fn\n",
      "vn\n",
      "aj\n",
      "uq\n",
      "gy\n",
      "ab\n",
      "kd\n",
      "ck\n",
      "jz\n",
      "qo\n",
      "fa\n",
      "sg\n",
      "ae\n",
      "th\n",
      "fw\n",
      "yp\n",
      "rg\n",
      "ac\n",
      "az\n",
      "pm\n",
      "sy\n",
      "wd\n",
      "wm\n",
      "lq\n",
      "ki\n",
      "uc\n",
      "km\n",
      "hd\n",
      "fp\n",
      "ca\n",
      "zw\n",
      "fj\n",
      "xt\n",
      "ld\n",
      "hr\n",
      "dr\n",
      "qs\n",
      "at\n",
      "pc\n",
      "rg\n",
      "qf\n",
      "tj\n",
      "ov\n",
      "yj\n",
      "qz\n",
      "ss\n",
      "xz\n",
      "ew\n",
      "wi\n",
      "ta\n",
      "je\n",
      "zx\n",
      "qu\n",
      "ao\n",
      "jl\n",
      "bm\n",
      "ni\n",
      "gp\n",
      "uz\n",
      "mm\n",
      "rw\n",
      "he\n",
      "hr\n",
      "dy\n",
      "ey\n",
      "ah\n",
      "im\n",
      "pm\n",
      "vk\n",
      "yj\n",
      "gp\n",
      "hg\n",
      "ai\n",
      "ih\n",
      "hc\n",
      "jl\n",
      "kh\n",
      "ft\n",
      "og\n",
      "ij\n",
      "jh\n",
      "qn\n",
      "rg\n",
      "wc\n",
      "qm\n",
      "kd\n",
      "lh\n",
      "xu\n",
      "fi\n",
      "io\n",
      "ef\n",
      "jr\n",
      "ry\n",
      "jz\n",
      "sw\n",
      "kp\n",
      "pz\n",
      "ip\n",
      "ad\n",
      "pe\n",
      "db\n",
      "ab\n",
      "oq\n",
      "ib\n",
      "du\n",
      "zj\n",
      "ch\n",
      "fr\n",
      "us\n",
      "lr\n",
      "om\n",
      "rq\n",
      "fk\n",
      "oo\n",
      "gv\n",
      "Result matched password is:  gv\n",
      "187\n"
     ]
    }
   ],
   "source": [
    "from random import *\n",
    "\n",
    "userPass = input(\"\\nEnter your password:\")\n",
    "\n",
    "password = ['a', 'b', 'c', 'd', 'e', 'f', 'g', 'h', 'i', 'j','k', \n",
    "            'l', 'm', 'n', 'o', 'p', 'q', 'r', 's', 't','u','v', \n",
    "            'w', 'x', 'y', 'z',]\n",
    "count = 0\n",
    "guessPass = \"\"\n",
    "\n",
    "while (guessPass != userPass):\n",
    "    guessPass = \"\"\n",
    "    for letter in range(len(userPass)):\n",
    "        guessLetter = password[randint(0, 25)]\n",
    "        guessPass = str(guessLetter) + str(guessPass) \n",
    "    print(guessPass)\n",
    "    count = count + 1\n",
    "\n",
    "print(\"Result matched password is: \", guessPass)\n",
    "\n",
    "print(count)\n"
   ]
  },
  {
   "cell_type": "code",
   "execution_count": 16,
   "id": "f6d1cc77-7264-4109-ac62-f565da3dc512",
   "metadata": {},
   "outputs": [],
   "source": [
    "import turtle\n",
    "from turtle import *\n",
    "#fillcolor(\"blue\")\n",
    "#begin_fill()\n",
    "#circle(100)\n",
    "#end_fill()\n",
    "#left(90)\n",
    "#forward(100)\n",
    "#left(180)\n"
   ]
  },
  {
   "cell_type": "code",
   "execution_count": 2,
   "id": "0c9c62f3-6dfc-431d-a3c0-11030476d49a",
   "metadata": {},
   "outputs": [
    {
     "ename": "Terminator",
     "evalue": "",
     "output_type": "error",
     "traceback": [
      "\u001b[1;31m---------------------------------------------------------------------------\u001b[0m",
      "\u001b[1;31mTerminator\u001b[0m                                Traceback (most recent call last)",
      "Cell \u001b[1;32mIn[2], line 5\u001b[0m\n\u001b[0;32m      2\u001b[0m \u001b[38;5;28;01mimport\u001b[39;00m \u001b[38;5;21;01mturtle\u001b[39;00m \n\u001b[0;32m      4\u001b[0m \u001b[38;5;66;03m# Creating a turtle object(pen) \u001b[39;00m\n\u001b[1;32m----> 5\u001b[0m pen \u001b[38;5;241m=\u001b[39m turtle\u001b[38;5;241m.\u001b[39mTurtle() \n\u001b[0;32m      7\u001b[0m \u001b[38;5;66;03m# Defining a method to draw curve \u001b[39;00m\n\u001b[0;32m      8\u001b[0m \u001b[38;5;28;01mdef\u001b[39;00m \u001b[38;5;21mcurve\u001b[39m(): \n",
      "File \u001b[1;32m~\\anaconda3\\Lib\\turtle.py:3831\u001b[0m, in \u001b[0;36mTurtle.__init__\u001b[1;34m(self, shape, undobuffersize, visible)\u001b[0m\n\u001b[0;32m   3829\u001b[0m \u001b[38;5;28;01mif\u001b[39;00m Turtle\u001b[38;5;241m.\u001b[39m_screen \u001b[38;5;129;01mis\u001b[39;00m \u001b[38;5;28;01mNone\u001b[39;00m:\n\u001b[0;32m   3830\u001b[0m     Turtle\u001b[38;5;241m.\u001b[39m_screen \u001b[38;5;241m=\u001b[39m Screen()\n\u001b[1;32m-> 3831\u001b[0m RawTurtle\u001b[38;5;241m.\u001b[39m\u001b[38;5;21m__init__\u001b[39m(\u001b[38;5;28mself\u001b[39m, Turtle\u001b[38;5;241m.\u001b[39m_screen,\n\u001b[0;32m   3832\u001b[0m                    shape\u001b[38;5;241m=\u001b[39mshape,\n\u001b[0;32m   3833\u001b[0m                    undobuffersize\u001b[38;5;241m=\u001b[39mundobuffersize,\n\u001b[0;32m   3834\u001b[0m                    visible\u001b[38;5;241m=\u001b[39mvisible)\n",
      "File \u001b[1;32m~\\anaconda3\\Lib\\turtle.py:2558\u001b[0m, in \u001b[0;36mRawTurtle.__init__\u001b[1;34m(self, canvas, shape, undobuffersize, visible)\u001b[0m\n\u001b[0;32m   2556\u001b[0m \u001b[38;5;28mself\u001b[39m\u001b[38;5;241m.\u001b[39m_undobuffersize \u001b[38;5;241m=\u001b[39m undobuffersize\n\u001b[0;32m   2557\u001b[0m \u001b[38;5;28mself\u001b[39m\u001b[38;5;241m.\u001b[39mundobuffer \u001b[38;5;241m=\u001b[39m Tbuffer(undobuffersize)\n\u001b[1;32m-> 2558\u001b[0m \u001b[38;5;28mself\u001b[39m\u001b[38;5;241m.\u001b[39m_update()\n",
      "File \u001b[1;32m~\\anaconda3\\Lib\\turtle.py:2661\u001b[0m, in \u001b[0;36mRawTurtle._update\u001b[1;34m(self)\u001b[0m\n\u001b[0;32m   2659\u001b[0m     \u001b[38;5;28;01mreturn\u001b[39;00m\n\u001b[0;32m   2660\u001b[0m \u001b[38;5;28;01melif\u001b[39;00m screen\u001b[38;5;241m.\u001b[39m_tracing \u001b[38;5;241m==\u001b[39m \u001b[38;5;241m1\u001b[39m:\n\u001b[1;32m-> 2661\u001b[0m     \u001b[38;5;28mself\u001b[39m\u001b[38;5;241m.\u001b[39m_update_data()\n\u001b[0;32m   2662\u001b[0m     \u001b[38;5;28mself\u001b[39m\u001b[38;5;241m.\u001b[39m_drawturtle()\n\u001b[0;32m   2663\u001b[0m     screen\u001b[38;5;241m.\u001b[39m_update()                  \u001b[38;5;66;03m# TurtleScreenBase\u001b[39;00m\n",
      "File \u001b[1;32m~\\anaconda3\\Lib\\turtle.py:2647\u001b[0m, in \u001b[0;36mRawTurtle._update_data\u001b[1;34m(self)\u001b[0m\n\u001b[0;32m   2646\u001b[0m \u001b[38;5;28;01mdef\u001b[39;00m \u001b[38;5;21m_update_data\u001b[39m(\u001b[38;5;28mself\u001b[39m):\n\u001b[1;32m-> 2647\u001b[0m     \u001b[38;5;28mself\u001b[39m\u001b[38;5;241m.\u001b[39mscreen\u001b[38;5;241m.\u001b[39m_incrementudc()\n\u001b[0;32m   2648\u001b[0m     \u001b[38;5;28;01mif\u001b[39;00m \u001b[38;5;28mself\u001b[39m\u001b[38;5;241m.\u001b[39mscreen\u001b[38;5;241m.\u001b[39m_updatecounter \u001b[38;5;241m!=\u001b[39m \u001b[38;5;241m0\u001b[39m:\n\u001b[0;32m   2649\u001b[0m         \u001b[38;5;28;01mreturn\u001b[39;00m\n",
      "File \u001b[1;32m~\\anaconda3\\Lib\\turtle.py:1293\u001b[0m, in \u001b[0;36mTurtleScreen._incrementudc\u001b[1;34m(self)\u001b[0m\n\u001b[0;32m   1291\u001b[0m \u001b[38;5;28;01mif\u001b[39;00m \u001b[38;5;129;01mnot\u001b[39;00m TurtleScreen\u001b[38;5;241m.\u001b[39m_RUNNING:\n\u001b[0;32m   1292\u001b[0m     TurtleScreen\u001b[38;5;241m.\u001b[39m_RUNNING \u001b[38;5;241m=\u001b[39m \u001b[38;5;28;01mTrue\u001b[39;00m\n\u001b[1;32m-> 1293\u001b[0m     \u001b[38;5;28;01mraise\u001b[39;00m Terminator\n\u001b[0;32m   1294\u001b[0m \u001b[38;5;28;01mif\u001b[39;00m \u001b[38;5;28mself\u001b[39m\u001b[38;5;241m.\u001b[39m_tracing \u001b[38;5;241m>\u001b[39m \u001b[38;5;241m0\u001b[39m:\n\u001b[0;32m   1295\u001b[0m     \u001b[38;5;28mself\u001b[39m\u001b[38;5;241m.\u001b[39m_updatecounter \u001b[38;5;241m+\u001b[39m\u001b[38;5;241m=\u001b[39m \u001b[38;5;241m1\u001b[39m\n",
      "\u001b[1;31mTerminator\u001b[0m: "
     ]
    }
   ],
   "source": [
    "# Import turtle package \n",
    "import turtle \n",
    "\n",
    "# Creating a turtle object(pen) \n",
    "pen = turtle.Turtle() \n",
    "\n",
    "# Defining a method to draw curve \n",
    "def curve(): \n",
    "\tfor i in range(200): \n",
    "\n",
    "\t\t# Defining step by step curve motion \n",
    "\t\tpen.right(1) \n",
    "\t\tpen.forward(1) \n",
    "\n",
    "# Defining method to draw a full heart \n",
    "def heart(): \n",
    "\n",
    "\t# Set the fill color to red \n",
    "\tpen.fillcolor('red') \n",
    "\n",
    "\t# Start filling the color \n",
    "\tpen.begin_fill() \n",
    "\n",
    "\t# Draw the left line \n",
    "\tpen.left(140) \n",
    "\tpen.forward(113) \n",
    "\n",
    "\t# Draw the left curve \n",
    "\tcurve() \n",
    "\tpen.left(120) \n",
    "\n",
    "\t# Draw the right curve \n",
    "\tcurve() \n",
    "\n",
    "\t# Draw the right line \n",
    "\tpen.forward(112) \n",
    "\n",
    "\t# Ending the filling of the color \n",
    "\tpen.end_fill() \n",
    "\n",
    "# Defining method to write text \n",
    "def txt(): \n",
    "\n",
    "\t# Move turtle to air \n",
    "\tpen.up() \n",
    "\n",
    "\t# Move turtle to a given position \n",
    "\tpen.setpos(-68, 95) \n",
    "\n",
    "\t# Move the turtle to the ground \n",
    "\tpen.down() \n",
    "\n",
    "\t# Set the text color to lightgreen \n",
    "\tpen.color('lightgreen') \n",
    "\n",
    "\t# Write the specified text in \n",
    "\t# specified font style and size \n",
    "\tpen.write(\"\", font=( \n",
    "\t\"Verdana\", 12, \"bold\")) \n",
    "\n",
    "\n",
    "# Draw a heart \n",
    "heart() \n",
    "\n",
    "# Write text \n",
    "txt() \n",
    "\n",
    "# To hide turtle \n",
    "pen.ht() \n"
   ]
  },
  {
   "cell_type": "code",
   "execution_count": 1,
   "id": "d0cdfbf7-6626-4f55-be82-0ddd54a280e9",
   "metadata": {},
   "outputs": [
    {
     "ename": "Terminator",
     "evalue": "",
     "output_type": "error",
     "traceback": [
      "\u001b[1;31m---------------------------------------------------------------------------\u001b[0m",
      "\u001b[1;31mTerminator\u001b[0m                                Traceback (most recent call last)",
      "Cell \u001b[1;32mIn[1], line 263\u001b[0m\n\u001b[0;32m    260\u001b[0m draw\u001b[38;5;241m.\u001b[39mlt(\u001b[38;5;241m90\u001b[39m)\n\u001b[0;32m    261\u001b[0m draw\u001b[38;5;241m.\u001b[39mpendown()\n\u001b[1;32m--> 263\u001b[0m heart()\n\u001b[0;32m    265\u001b[0m turtle\u001b[38;5;241m.\u001b[39mdone()\n",
      "Cell \u001b[1;32mIn[1], line 20\u001b[0m, in \u001b[0;36mheart\u001b[1;34m()\u001b[0m\n\u001b[0;32m     18\u001b[0m curve()\n\u001b[0;32m     19\u001b[0m draw\u001b[38;5;241m.\u001b[39mlt(\u001b[38;5;241m120\u001b[39m)\n\u001b[1;32m---> 20\u001b[0m curve()\n\u001b[0;32m     21\u001b[0m draw\u001b[38;5;241m.\u001b[39mfd(\u001b[38;5;241m112\u001b[39m)\n\u001b[0;32m     22\u001b[0m draw\u001b[38;5;241m.\u001b[39mend_fill()\n",
      "Cell \u001b[1;32mIn[1], line 8\u001b[0m, in \u001b[0;36mcurve\u001b[1;34m()\u001b[0m\n\u001b[0;32m      6\u001b[0m draw\u001b[38;5;241m.\u001b[39mpen(pencolor\u001b[38;5;241m=\u001b[39m\u001b[38;5;124m\"\u001b[39m\u001b[38;5;124mwhite\u001b[39m\u001b[38;5;124m\"\u001b[39m, pensize\u001b[38;5;241m=\u001b[39m\u001b[38;5;241m3\u001b[39m, speed\u001b[38;5;241m=\u001b[39m\u001b[38;5;241m5\u001b[39m)\n\u001b[0;32m      7\u001b[0m \u001b[38;5;28;01mfor\u001b[39;00m i \u001b[38;5;129;01min\u001b[39;00m \u001b[38;5;28mrange\u001b[39m(\u001b[38;5;241m200\u001b[39m):\n\u001b[1;32m----> 8\u001b[0m     draw\u001b[38;5;241m.\u001b[39mrt(\u001b[38;5;241m1\u001b[39m)\n\u001b[0;32m      9\u001b[0m     draw\u001b[38;5;241m.\u001b[39mfd(\u001b[38;5;241m1\u001b[39m)\n",
      "File \u001b[1;32m~\\anaconda3\\Lib\\turtle.py:1679\u001b[0m, in \u001b[0;36mTNavigator.right\u001b[1;34m(self, angle)\u001b[0m\n\u001b[0;32m   1660\u001b[0m \u001b[38;5;28;01mdef\u001b[39;00m \u001b[38;5;21mright\u001b[39m(\u001b[38;5;28mself\u001b[39m, angle):\n\u001b[0;32m   1661\u001b[0m \u001b[38;5;250m    \u001b[39m\u001b[38;5;124;03m\"\"\"Turn turtle right by angle units.\u001b[39;00m\n\u001b[0;32m   1662\u001b[0m \n\u001b[0;32m   1663\u001b[0m \u001b[38;5;124;03m    Aliases: right | rt\u001b[39;00m\n\u001b[1;32m   (...)\u001b[0m\n\u001b[0;32m   1677\u001b[0m \u001b[38;5;124;03m    337.0\u001b[39;00m\n\u001b[0;32m   1678\u001b[0m \u001b[38;5;124;03m    \"\"\"\u001b[39;00m\n\u001b[1;32m-> 1679\u001b[0m     \u001b[38;5;28mself\u001b[39m\u001b[38;5;241m.\u001b[39m_rotate(\u001b[38;5;241m-\u001b[39mangle)\n",
      "File \u001b[1;32m~\\anaconda3\\Lib\\turtle.py:3293\u001b[0m, in \u001b[0;36mRawTurtle._rotate\u001b[1;34m(self, angle)\u001b[0m\n\u001b[0;32m   3291\u001b[0m     \u001b[38;5;28;01mfor\u001b[39;00m _ \u001b[38;5;129;01min\u001b[39;00m \u001b[38;5;28mrange\u001b[39m(steps):\n\u001b[0;32m   3292\u001b[0m         \u001b[38;5;28mself\u001b[39m\u001b[38;5;241m.\u001b[39m_orient \u001b[38;5;241m=\u001b[39m \u001b[38;5;28mself\u001b[39m\u001b[38;5;241m.\u001b[39m_orient\u001b[38;5;241m.\u001b[39mrotate(delta)\n\u001b[1;32m-> 3293\u001b[0m         \u001b[38;5;28mself\u001b[39m\u001b[38;5;241m.\u001b[39m_update()\n\u001b[0;32m   3294\u001b[0m \u001b[38;5;28mself\u001b[39m\u001b[38;5;241m.\u001b[39m_orient \u001b[38;5;241m=\u001b[39m neworient\n\u001b[0;32m   3295\u001b[0m \u001b[38;5;28mself\u001b[39m\u001b[38;5;241m.\u001b[39m_update()\n",
      "File \u001b[1;32m~\\anaconda3\\Lib\\turtle.py:2661\u001b[0m, in \u001b[0;36mRawTurtle._update\u001b[1;34m(self)\u001b[0m\n\u001b[0;32m   2659\u001b[0m     \u001b[38;5;28;01mreturn\u001b[39;00m\n\u001b[0;32m   2660\u001b[0m \u001b[38;5;28;01melif\u001b[39;00m screen\u001b[38;5;241m.\u001b[39m_tracing \u001b[38;5;241m==\u001b[39m \u001b[38;5;241m1\u001b[39m:\n\u001b[1;32m-> 2661\u001b[0m     \u001b[38;5;28mself\u001b[39m\u001b[38;5;241m.\u001b[39m_update_data()\n\u001b[0;32m   2662\u001b[0m     \u001b[38;5;28mself\u001b[39m\u001b[38;5;241m.\u001b[39m_drawturtle()\n\u001b[0;32m   2663\u001b[0m     screen\u001b[38;5;241m.\u001b[39m_update()                  \u001b[38;5;66;03m# TurtleScreenBase\u001b[39;00m\n",
      "File \u001b[1;32m~\\anaconda3\\Lib\\turtle.py:2647\u001b[0m, in \u001b[0;36mRawTurtle._update_data\u001b[1;34m(self)\u001b[0m\n\u001b[0;32m   2646\u001b[0m \u001b[38;5;28;01mdef\u001b[39;00m \u001b[38;5;21m_update_data\u001b[39m(\u001b[38;5;28mself\u001b[39m):\n\u001b[1;32m-> 2647\u001b[0m     \u001b[38;5;28mself\u001b[39m\u001b[38;5;241m.\u001b[39mscreen\u001b[38;5;241m.\u001b[39m_incrementudc()\n\u001b[0;32m   2648\u001b[0m     \u001b[38;5;28;01mif\u001b[39;00m \u001b[38;5;28mself\u001b[39m\u001b[38;5;241m.\u001b[39mscreen\u001b[38;5;241m.\u001b[39m_updatecounter \u001b[38;5;241m!=\u001b[39m \u001b[38;5;241m0\u001b[39m:\n\u001b[0;32m   2649\u001b[0m         \u001b[38;5;28;01mreturn\u001b[39;00m\n",
      "File \u001b[1;32m~\\anaconda3\\Lib\\turtle.py:1293\u001b[0m, in \u001b[0;36mTurtleScreen._incrementudc\u001b[1;34m(self)\u001b[0m\n\u001b[0;32m   1291\u001b[0m \u001b[38;5;28;01mif\u001b[39;00m \u001b[38;5;129;01mnot\u001b[39;00m TurtleScreen\u001b[38;5;241m.\u001b[39m_RUNNING:\n\u001b[0;32m   1292\u001b[0m     TurtleScreen\u001b[38;5;241m.\u001b[39m_RUNNING \u001b[38;5;241m=\u001b[39m \u001b[38;5;28;01mTrue\u001b[39;00m\n\u001b[1;32m-> 1293\u001b[0m     \u001b[38;5;28;01mraise\u001b[39;00m Terminator\n\u001b[0;32m   1294\u001b[0m \u001b[38;5;28;01mif\u001b[39;00m \u001b[38;5;28mself\u001b[39m\u001b[38;5;241m.\u001b[39m_tracing \u001b[38;5;241m>\u001b[39m \u001b[38;5;241m0\u001b[39m:\n\u001b[0;32m   1295\u001b[0m     \u001b[38;5;28mself\u001b[39m\u001b[38;5;241m.\u001b[39m_updatecounter \u001b[38;5;241m+\u001b[39m\u001b[38;5;241m=\u001b[39m \u001b[38;5;241m1\u001b[39m\n",
      "\u001b[1;31mTerminator\u001b[0m: "
     ]
    }
   ],
   "source": [
    "import turtle\n",
    "\n",
    "draw = turtle.Turtle()\n",
    "\n",
    "def curve():\n",
    "    draw.pen(pencolor=\"white\", pensize=3, speed=5)\n",
    "    for i in range(200):\n",
    "        draw.rt(1)\n",
    "        draw.fd(1)\n",
    "\n",
    "def heart():\n",
    "    draw.pen(pencolor=\"white\",fillcolor=\"red\", pensize=3, speed=5)\n",
    "    draw.shape(\"turtle\")\n",
    "    draw.shapesize(1,1,1)\n",
    "    draw.begin_fill()\n",
    "    draw.lt(50)\n",
    "    draw.fd(113)\n",
    "    curve()\n",
    "    draw.lt(120)\n",
    "    curve()\n",
    "    draw.fd(112)\n",
    "    draw.end_fill()\n",
    "\n",
    "    draw.hideturtle()\n",
    "\n",
    "\n",
    "window = turtle.Screen()\n",
    "window.bgcolor('black')\n",
    "\n",
    "draw.penup()\n",
    "draw.goto(-80,300)\n",
    "draw.pendown()\n",
    "draw.shapesize(1,2,1)\n",
    "\n",
    "draw.pen(pencolor=\"white\",fillcolor=\"yellow\", pensize=3, speed=8)\n",
    "\n",
    "draw.begin_fill()\n",
    "\n",
    "draw.fd(160)\n",
    "draw.rt(90)\n",
    "draw.fd(25)\n",
    "draw.rt(90)\n",
    "draw.fd(60)\n",
    "draw.lt(90)\n",
    "\n",
    "draw.fd(140)\n",
    "draw.lt(90)\n",
    "draw.fd(60)\n",
    "draw.rt(90)\n",
    "draw.fd(25)\n",
    "draw.rt(90)\n",
    "draw.fd(160)\n",
    "draw.rt(90)\n",
    "draw.fd(25)\n",
    "draw.rt(90)\n",
    "draw.fd(60)\n",
    "draw.lt(90)\n",
    "draw.fd(140)\n",
    "draw.left(90)\n",
    "draw.fd(60)\n",
    "draw.rt(90)\n",
    "draw.fd(25)\n",
    "\n",
    "draw.end_fill()\n",
    "\n",
    "draw.penup()\n",
    "draw.goto(-550,-20)\n",
    "draw.pendown()\n",
    "\n",
    "draw.pen(pencolor=\"white\",fillcolor=\"yellow\", pensize=3, speed=2)\n",
    "draw.begin_fill()\n",
    "\n",
    "draw.rt(90)\n",
    "draw.fd(25)\n",
    "draw.rt(90)\n",
    "draw.fd(165)\n",
    "draw.lt(90)\n",
    "draw.fd(115)\n",
    "draw.rt(90)\n",
    "draw.fd(25)\n",
    "draw.rt(90)\n",
    "draw.fd(140)\n",
    "draw.rt(90)\n",
    "draw.fd(190)\n",
    "draw.rt(90)\n",
    "\n",
    "draw.end_fill()\n",
    "\n",
    "draw.penup()\n",
    "draw.fd(140)\n",
    "\n",
    "draw.fd(70)\n",
    "\n",
    "draw.pen(pencolor=\"white\",fillcolor=\"yellow\", pensize=3, speed=8)\n",
    "draw.begin_fill()\n",
    "\n",
    "draw.rt(90)\n",
    "draw.fd(190)\n",
    "draw.lt(90)\n",
    "draw.pendown()\n",
    "draw.circle(60)\n",
    "draw.lt(90)\n",
    "draw.penup()\n",
    "draw.fd(20)\n",
    "draw.rt(90)\n",
    "draw.pendown()\n",
    "draw.circle(40)\n",
    "draw.rt(90)\n",
    "draw.penup()\n",
    "draw.fd(20)\n",
    "draw.lt(90)\n",
    "\n",
    "draw.end_fill()\n",
    "\n",
    "draw.fd(100)\n",
    "draw.pendown()\n",
    "\n",
    "draw.pen(pencolor=\"white\",fillcolor=\"yellow\", pensize=3, speed=8)\n",
    "draw.begin_fill()\n",
    "\n",
    "draw.lt(100)\n",
    "draw.fd(120)\n",
    "draw.rt(100)\n",
    "draw.fd(20)\n",
    "draw.rt(80)\n",
    "draw.fd(100)\n",
    "draw.lt(80)\n",
    "draw.fd(20)\n",
    "draw.lt(80)\n",
    "draw.fd(100)\n",
    "draw.rt(80)\n",
    "draw.fd(20)\n",
    "draw.rt(100)\n",
    "draw.fd(120)\n",
    "draw.rt(80)\n",
    "draw.fd(50)\n",
    "draw.lt(180)\n",
    "\n",
    "draw.end_fill()\n",
    "\n",
    "draw.penup()\n",
    "draw.fd(100)\n",
    "draw.pendown()\n",
    "\n",
    "draw.pen(pencolor=\"white\",fillcolor=\"yellow\", pensize=3, speed=8)\n",
    "draw.begin_fill()\n",
    "\n",
    "draw.lt(90)\n",
    "draw.fd(120)\n",
    "draw.rt(90)\n",
    "draw.fd(80)\n",
    "draw.rt(90)\n",
    "draw.fd(20)\n",
    "draw.rt(90)\n",
    "draw.fd(60)\n",
    "draw.lt(90)\n",
    "draw.fd(30)\n",
    "draw.lt(90)\n",
    "draw.fd(60)\n",
    "draw.rt(90)\n",
    "draw.fd(20)\n",
    "draw.rt(90)\n",
    "draw.fd(60)\n",
    "draw.lt(90)\n",
    "draw.fd(30)\n",
    "draw.lt(90)\n",
    "draw.fd(60)\n",
    "draw.rt(90)\n",
    "draw.fd(20)\n",
    "draw.rt(90)\n",
    "draw.fd(80)\n",
    "\n",
    "draw.end_fill()\n",
    "\n",
    "draw.penup()\n",
    "draw.rt(180)\n",
    "draw.fd(200)\n",
    "draw.pendown()\n",
    "\n",
    "\n",
    "draw.pen(pencolor=\"white\",fillcolor=\"yellow\", pensize=3, speed=2)\n",
    "draw.begin_fill()\n",
    "\n",
    "draw.lt(90)\n",
    "draw.fd(50)\n",
    "draw.lt(30)\n",
    "draw.fd(80)\n",
    "draw.rt(120)\n",
    "draw.fd(20)\n",
    "draw.rt(60)\n",
    "draw.fd(60)\n",
    "draw.lt(180)\n",
    "draw.rt(60)\n",
    "draw.fd(60)\n",
    "draw.rt(60)\n",
    "draw.fd(20)\n",
    "draw.rt(120)\n",
    "draw.fd(80)\n",
    "draw.lt(30)\n",
    "draw.fd(50)\n",
    "draw.rt(90)\n",
    "draw.fd(20)\n",
    "draw.rt(180)\n",
    "\n",
    "draw.end_fill()\n",
    "\n",
    "draw.penup()\n",
    "draw.fd(120)\n",
    "draw.pendown()\n",
    "\n",
    "\n",
    "draw.pen(pencolor=\"white\",fillcolor=\"yellow\", pensize=3, speed=8)\n",
    "draw.begin_fill()\n",
    "\n",
    "draw.circle(60)\n",
    "draw.lt(90)\n",
    "draw.penup()\n",
    "draw.fd(20)\n",
    "draw.pendown()\n",
    "draw.rt(90)\n",
    "draw.circle(40)\n",
    "draw.rt(90)\n",
    "draw.penup()\n",
    "draw.fd(20)\n",
    "draw.lt(90)\n",
    "\n",
    "draw.end_fill()\n",
    "\n",
    "draw.fd(100)\n",
    "draw.circle(60, extent=60)\n",
    "draw.pendown()\n",
    "\n",
    "draw.pen(pencolor=\"white\",fillcolor=\"yellow\", pensize=3, speed=8)\n",
    "draw.begin_fill()\n",
    "\n",
    "draw.lt(30)\n",
    "\n",
    "draw.fd(85)\n",
    "draw.lt(90)\n",
    "draw.fd(20)\n",
    "draw.lt(90)\n",
    "draw.fd(70)\n",
    "draw.circle(-20, extent=180)\n",
    "draw.fd(70)\n",
    "draw.lt(90)\n",
    "\n",
    "draw.fd(20)\n",
    "draw.lt(90)\n",
    "draw.fd(85)\n",
    "draw.circle(40, extent=180)\n",
    "\n",
    "draw.end_fill()\n",
    "\n",
    "draw.penup()\n",
    "\n",
    "draw.rt(180)\n",
    "draw.fd(35)\n",
    "draw.lt(90)\n",
    "draw.fd(140)\n",
    "draw.lt(90)\n",
    "draw.pendown()\n",
    "\n",
    "heart()\n",
    "\n",
    "turtle.done()"
   ]
  },
  {
   "cell_type": "code",
   "execution_count": null,
   "id": "9ac53677-e850-4227-8185-21f57cbff26f",
   "metadata": {},
   "outputs": [],
   "source": []
  }
 ],
 "metadata": {
  "kernelspec": {
   "display_name": "Python 3 (ipykernel)",
   "language": "python",
   "name": "python3"
  },
  "language_info": {
   "codemirror_mode": {
    "name": "ipython",
    "version": 3
   },
   "file_extension": ".py",
   "mimetype": "text/x-python",
   "name": "python",
   "nbconvert_exporter": "python",
   "pygments_lexer": "ipython3",
   "version": "3.11.7"
  }
 },
 "nbformat": 4,
 "nbformat_minor": 5
}
